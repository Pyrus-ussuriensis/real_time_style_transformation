{
 "cells": [
  {
   "cell_type": "markdown",
   "id": "2199f38b",
   "metadata": {},
   "source": [
    "# file explaination"
   ]
  },
  {
   "cell_type": "markdown",
   "id": "f215d7ad",
   "metadata": {},
   "source": [
    "## StyleDataset.py"
   ]
  },
  {
   "cell_type": "code",
   "execution_count": null,
   "id": "c226e1bb",
   "metadata": {},
   "outputs": [],
   "source": [
    "from torchvision import transforms\n",
    "from torch.utils.data import Dataset, DataLoader\n",
    "from PIL import Image\n",
    "import glob\n",
    "\n",
    "mean=[0.485, 0.456, 0.406], std=[0.229, 0.224, 0.225]\n",
    "\n",
    "class StyleDataset(Dataset):\n",
    "    def __init__(self, root):\n",
    "        self.pics = glob.glob(f\"{root}/*.jpg\")\n",
    "        self.tf = transforms.Compose([\n",
    "            transforms.Resize(512),\n",
    "            transforms.CenterCrop(512),\n",
    "            transforms.ToTensor(),\n",
    "            transforms.Normalize(mean=mean, std=std)\n",
    "\n",
    "        ])\n",
    "    def __len__(self): return len(self.pics)\n",
    "    def __getitem__(self, i):\n",
    "        img = Image.open(self.pics[i]).convert('RGB')\n",
    "        return self.tf(img)\n",
    "\n",
    "TrainLoader = DataLoader(StyleDataset(\"data/train\"), batch_size=4, shuffle=True, num_workers=4, pin_memory=True)\n",
    "ValidateLoader = DataLoader(StyleDataset(\"data/val\"), batch_size=4, shuffle=True, num_workers=4, pin_memory=True)"
   ]
  },
  {
   "cell_type": "markdown",
   "id": "85ecde92",
   "metadata": {},
   "source": [
    "数据处理用Image打开，转化为RGB格式，然后用transforms转换，做转化，裁切，转化为张量，归一化，然后加载到DataLoader中。\n",
    "DataLoader参数包括Dataset的类，每次加载的数量，num_workers是线程数，pin_memory是是否固定在显存中。"
   ]
  },
  {
   "cell_type": "markdown",
   "id": "0f2b7f4f",
   "metadata": {},
   "source": [
    "## rtst.py"
   ]
  },
  {
   "cell_type": "code",
   "execution_count": null,
   "id": "390c87ca",
   "metadata": {},
   "outputs": [],
   "source": [
    "import torch\n",
    "import torch.nn as nn\n",
    "import torch.nn.functional as F\n",
    "\n",
    "class ConvLayer(nn.Module):\n",
    "    def __init__(self, in_channels, out_channels, kernel_size, stride):\n",
    "        super(ConvLayer, self).__init__()\n",
    "        padding = kernel_size // 2\n",
    "        self.conv = nn.Sequential(\n",
    "            nn.ReflectionPad2d(padding=padding),\n",
    "            nn.Conv2d(in_channels=in_channels, out_channels=out_channels, kernel_size=kernel_size, stride=stride),\n",
    "            nn.InstanceNorm2d(out_channels, affine=True),\n",
    "            nn.ReLU(inplace=True)\n",
    "        )\n",
    "\n",
    "    def forward(self, x):\n",
    "        return self.conv(x)\n",
    "\n",
    "class ResidualBlock(nn.Module):\n",
    "    def __init__(self, channels):\n",
    "        super(ResidualBlock, self).__init__()\n",
    "        self.block = nn.Sequential(\n",
    "            nn.ReflectionPad2d(padding=1),\n",
    "            nn.Conv2d(in_channels=channels, out_channels=channels, kernel_size=3, stride=1),\n",
    "            nn.InstanceNorm2d(channels, affine=True),\n",
    "            nn.ReLU(inplace=True),\n",
    "            nn.ReflectionPad2d(padding=1),\n",
    "            nn.Conv2d(in_channels=channels, out_channels=channels, kernel_size=3, stride=1),\n",
    "            nn.InstanceNorm2d(channels, affine=True),\n",
    "        )\n",
    "    \n",
    "    def forward(self, x):\n",
    "        return x + self.block(x)\n",
    "\n",
    "class UpsampleConvLayer(nn.Module):\n",
    "    def __init__(self, in_channels, out_channels, kernel_size, stride, upsample=None):\n",
    "        super(UpsampleConvLayer, self).__init__()\n",
    "        self.upsample = upsample\n",
    "        padding = kernel_size // 2\n",
    "        self.conv = nn.Sequential(\n",
    "            nn.ReflectionPad2d(padding=padding),\n",
    "            nn.Conv2d(in_channels=in_channels, out_channels=out_channels, kernel_size=kernel_size, stride=stride),\n",
    "            nn.InstanceNorm2d(out_channels, affine=True),\n",
    "            nn.ReLU(inplace=True)\n",
    "        )\n",
    "\n",
    "    def forward(self, x):\n",
    "        if self.upsample:\n",
    "            F.interpolate(input=x, scale_factor=self.upsample, mode=\"nearest\")\n",
    "        return self.conv(x)\n",
    "\n",
    "class TransformerNet(nn.Module):\n",
    "    def __init__(self):\n",
    "        super(TransformerNet, self).__init__()\n",
    "\n",
    "        self.conv1 = ConvLayer(3, 32, kernel_size=9, stride=1)\n",
    "        self.conv2 = ConvLayer(32, 64, kernel_size=3, stride=2)\n",
    "        self.conv3 = ConvLayer(64, 128, kernel_size=3, stride=2)\n",
    "\n",
    "        self.res1 = ResidualBlock(128)\n",
    "        self.res2 = ResidualBlock(128)\n",
    "        self.res3 = ResidualBlock(128)\n",
    "        self.res4 = ResidualBlock(128)\n",
    "        self.res5 = ResidualBlock(128)\n",
    "\n",
    "        self.deconv1 = UpsampleConvLayer(128, 64, kernel_size=3, stride=1, upsample=2)\n",
    "        self.deconv2 = UpsampleConvLayer(64, 32, kernel_size=3, stride=1, upsample=2)\n",
    "        self.deconv3 = nn.Sequential(\n",
    "            nn.ReflectionPad2d(4),\n",
    "            nn.Conv2d(in_channels=32, out_channels=3, kernel_size=9, stride=1),\n",
    "            nn.Tanh()\n",
    "        )\n",
    "\n",
    "    def forward(self, x):\n",
    "        y = self.conv1(x)\n",
    "        y = self.conv2(y)\n",
    "        y = self.conv3(y)\n",
    "        y = self.res1(y)\n",
    "        y = self.res2(y)\n",
    "        y = self.res3(y)\n",
    "        y = self.res4(y)\n",
    "        y = self.res5(y)\n",
    "        y = self.deconv1(y)\n",
    "        y = self.deconv2(y)\n",
    "        y = self.deconv3(y)\n",
    "        return y\n",
    "\n",
    "if __name__ == \"__main__\":\n",
    "    model = TransformerNet()\n",
    "    random_pic = torch.randn(1,3,128,128)\n",
    "    output = model(random_pic)\n",
    "    print(f\"output: {output.shape}\")\n",
    "\n"
   ]
  },
  {
   "cell_type": "markdown",
   "id": "29597eb7",
   "metadata": {},
   "source": [
    "首先使用三个卷积层扩展到128，长宽压缩四倍，然后用ResBlock处理5层，然后两层上采样使图片尺寸还原，最后一层压缩到3，对应RGB。"
   ]
  },
  {
   "cell_type": "markdown",
   "id": "34c48c6c",
   "metadata": {},
   "source": [
    "## fe_model.py"
   ]
  },
  {
   "cell_type": "code",
   "execution_count": null,
   "id": "dafaee9b",
   "metadata": {},
   "outputs": [],
   "source": [
    "import torch\n",
    "device = torch.device('cuda' if torch.cuda.is_available() else 'cpu')\n",
    "from torchvision.models import vgg19\n",
    "#feature extracting model\n",
    "fe_model = vgg19(weights=\"IMAGENET1K_V1\").features.eval().to(device=device)\n",
    "for param in fe_model.parameters():\n",
    "    param.requires_grad=False\n",
    "\n",
    "from torchvision.models.feature_extraction import create_feature_extractor \n",
    "\n",
    "#这里选择的层数是超参数，可以自己调节\n",
    "content_layers = ['21']\n",
    "style_layers = ['0', '5', '10', '19', '28']\n",
    "extractor = create_feature_extractor(fe_model, return_nodes={**{l: l for l in content_layers}, **{l: l for l in style_layers}})\n"
   ]
  },
  {
   "cell_type": "markdown",
   "id": "d8e3f1e2",
   "metadata": {},
   "source": [
    "获取torchvision.models中的vgg19，然后设置权重为IMAGENET1K_V1，用features获取前面的卷积提取特征部分，然后调到评测模式，放置到设备，然后冻结参数，提取特定层的特征。"
   ]
  }
 ],
 "metadata": {
  "kernelspec": {
   "display_name": "cv",
   "language": "python",
   "name": "python3"
  },
  "language_info": {
   "codemirror_mode": {
    "name": "ipython",
    "version": 3
   },
   "file_extension": ".py",
   "mimetype": "text/x-python",
   "name": "python",
   "nbconvert_exporter": "python",
   "pygments_lexer": "ipython3",
   "version": "3.9.18"
  }
 },
 "nbformat": 4,
 "nbformat_minor": 5
}
